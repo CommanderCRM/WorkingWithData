{
  "nbformat": 4,
  "nbformat_minor": 0,
  "metadata": {
    "colab": {
      "name": "KIA_Lab2_748.ipynb",
      "provenance": [],
      "collapsed_sections": []
    },
    "kernelspec": {
      "name": "python3",
      "display_name": "Python 3"
    },
    "language_info": {
      "name": "python"
    }
  },
  "cells": [
    {
      "cell_type": "code",
      "metadata": {
        "colab": {
          "base_uri": "https://localhost:8080/"
        },
        "id": "zCpF0V8ypQgX",
        "outputId": "27fcb4c0-41e6-4387-a57a-3055c0d8351f"
      },
      "source": [
        "import pandas as pd\n",
        "from sklearn.naive_bayes import GaussianNB\n",
        "from sklearn.datasets import load_wine\n",
        "from sklearn.model_selection import cross_val_score\n",
        "\n",
        "X, y = load_wine(return_X_y = True) # импортируем датасет \"wine\" \n",
        "\n",
        "model = GaussianNB() # подключаем модель классификатора Байеса\n",
        "\n",
        "f1_macro = cross_val_score(model, X, y, cv = 10, scoring='f1_macro') \n",
        "balanced_accuracy = cross_val_score(model, X, y, cv = 10, scoring='balanced_accuracy') \n",
        "roc_auc_ovr_weighted = cross_val_score(model, X, y, cv = 10, scoring='roc_auc_ovr_weighted')\n",
        "f1_weighted = cross_val_score(model, X, y, cv = 10, scoring='f1_weighted')\n",
        "print(f1_macro.mean(), balanced_accuracy.mean(), roc_auc_ovr_weighted.mean(), f1_weighted.mean(), sep = '\\n') # вывод среднего значения из 10 нарезок, так как предыдущие строки возвращают массивы"
      ],
      "execution_count": null,
      "outputs": [
        {
          "output_type": "stream",
          "name": "stdout",
          "text": [
            "0.9783061383061383\n",
            "0.9793650793650794\n",
            "0.998989898989899\n",
            "0.9777207977207978\n"
          ]
        }
      ]
    },
    {
      "cell_type": "code",
      "metadata": {
        "colab": {
          "base_uri": "https://localhost:8080/"
        },
        "id": "Z-IGAWxvpWc8",
        "outputId": "bfd067f0-9645-4ea1-ea25-602c063be7bc"
      },
      "source": [
        "import pandas as pd\n",
        "from sklearn.model_selection import train_test_split\n",
        "from sklearn.datasets import load_wine\n",
        "from sklearn.metrics import classification_report, confusion_matrix, f1_score, top_k_accuracy_score\n",
        "from sklearn.svm import LinearSVC\n",
        "from collections import Counter\n",
        "import statistics\n",
        "\n",
        "X, y = load_wine(return_X_y = True) # импортируем датасет \"wine\" \n",
        "\n",
        "X_train, X_test, y_train, y_test = train_test_split(X, y) # делим датасет на тестовые и тренировочные выборки\n",
        "\n",
        "model = LinearSVC().fit(X_train, y_train) # обучаем модель на тренировочных выборках\n",
        "y_pred = model.predict(X_test) # предсказываем классы Y, основываясь на тестовой выборке X\n",
        "y_score = model.decision_function(X) # находим оценку Y для точности top_k\n",
        "\n",
        "a0 = b0 = c0 = a1 = b1 = c1 = a2 = b2 = c2 = 0\n",
        "\n",
        "for i in range(len(y_test)): # смотрим кол-во элементов 1 класса в тестовой выборке\n",
        "  if y_test[i] == 0:\n",
        "    a0 = a0 + 1\n",
        "\n",
        "for i in range(len(y_pred)): # элементы 1 класса в массиве предсказанных меток\n",
        "  if y_pred[i] == 0:\n",
        "    b0 = b0 + 1\n",
        "\n",
        "for i in range(len(y_pred)): # пересечение множеств\n",
        "    if y_test[i] == y_pred[i] == 0:\n",
        "      c0 = c0 + 1\n",
        "\n",
        "for i in range(len(y_test)):\n",
        "  if y_test[i] == 1:\n",
        "    a1 = a1 + 1\n",
        "\n",
        "for i in range(len(y_pred)):\n",
        "  if y_pred[i] == 1:\n",
        "    b1 = b1 + 1\n",
        "\n",
        "for i in range(len(y_pred)): # пересечение множеств\n",
        "    if y_test[i] == y_pred[i] == 1:\n",
        "      c1 = c1 + 1\n",
        "\n",
        "for i in range(len(y_test)):\n",
        "  if y_test[i] == 2:\n",
        "    a2 = a2 + 1\n",
        "\n",
        "for i in range(len(y_pred)):\n",
        "  if y_pred[i] == 2:\n",
        "    b2 = b2 + 1\n",
        "\n",
        "for i in range(len(y_pred)): # пересечение множеств\n",
        "    if y_test[i] == y_pred[i] == 2:\n",
        "      c2 = c2 + 1\n",
        "\n",
        "KS_1 = 2 * c0 / (a0 + b0)\n",
        "KS_2 = 2 * c1 / (a1 + b1)\n",
        "KS_3 = 2 * c2 / (a2 + b2)\n",
        "KB_1 = c0 / max(a0, b0)\n",
        "KB_2 = c1 / max(a1, b1)\n",
        "KB_3 = c2 / max(a2, b2)\n",
        "\n",
        "KS_mean = (KS_1 + KS_2 + KS_3) / 3\n",
        "KB_mean = (KB_1 + KB_2 + KB_3) / 3\n",
        "\n",
        "top_k = top_k_accuracy_score(y, y_score) # рассчитываем top_k точность\n",
        "\n",
        "print('Коэффициент Серенсена (для 1 класса)', KS_1)\n",
        "print('Коэффициент Серенсена (для 2 класса)', KS_2)\n",
        "print('Коэффициент Серенсена (для 3 класса)', KS_3)\n",
        "print('Коэффициент Браун-Бланке (для 1 класса)', KB_1)\n",
        "print('Коэффициент Браун-Бланке (для 2 класса)', KB_2)\n",
        "print('Коэффициент Браун-Бланке (для 3 класса)', KB_3)\n",
        "print('Коэффициент Серенсена (усредненный): ', KS_mean)\n",
        "print('Коэффициент Браун-Бланке (усредненный): ', KB_mean)\n",
        "\n",
        "print('Top K accuracy ', top_k) # выводим top_k точность\n",
        "#print(confusion_matrix(y_test, y_pred)) # матрица отношений экземпляров к классам\n",
        "#print(classification_report(y_test, y_pred)) # accuracy, precision, f1 и др."
      ],
      "execution_count": null,
      "outputs": [
        {
          "output_type": "stream",
          "name": "stdout",
          "text": [
            "Коэффициент Серенсена (для 1 класса) 0.9629629629629629\n",
            "Коэффициент Серенсена (для 2 класса) 1.0\n",
            "Коэффициент Серенсена (для 3 класса) 0.967741935483871\n",
            "Коэффициент Браун-Бланке (для 1 класса) 0.9285714285714286\n",
            "Коэффициент Браун-Бланке (для 2 класса) 1.0\n",
            "Коэффициент Браун-Бланке (для 3 класса) 0.9375\n",
            "Коэффициент Серенсена (усредненный):  0.9769016328156113\n",
            "Коэффициент Браун-Бланке (усредненный):  0.9553571428571429\n",
            "Top K accuracy  0.9775280898876404\n"
          ]
        },
        {
          "output_type": "stream",
          "name": "stderr",
          "text": [
            "/usr/local/lib/python3.7/dist-packages/sklearn/svm/_base.py:1208: ConvergenceWarning: Liblinear failed to converge, increase the number of iterations.\n",
            "  ConvergenceWarning,\n"
          ]
        }
      ]
    },
    {
      "cell_type": "code",
      "metadata": {
        "colab": {
          "base_uri": "https://localhost:8080/"
        },
        "id": "OhN3Gv4JGWTV",
        "outputId": "26670075-1ed5-481b-8511-dd6795a91a51"
      },
      "source": [
        "!pip uninstall scikit-learn -y\n",
        "\n",
        "!pip install -U scikit-learn"
      ],
      "execution_count": null,
      "outputs": [
        {
          "output_type": "stream",
          "name": "stdout",
          "text": [
            "Found existing installation: scikit-learn 1.0.1\n",
            "Uninstalling scikit-learn-1.0.1:\n",
            "  Successfully uninstalled scikit-learn-1.0.1\n",
            "Collecting scikit-learn\n",
            "  Downloading scikit_learn-1.0.1-cp37-cp37m-manylinux_2_12_x86_64.manylinux2010_x86_64.whl (23.2 MB)\n",
            "\u001b[K     |████████████████████████████████| 23.2 MB 1.9 MB/s \n",
            "\u001b[?25hRequirement already satisfied: threadpoolctl>=2.0.0 in /usr/local/lib/python3.7/dist-packages (from scikit-learn) (3.0.0)\n",
            "Requirement already satisfied: scipy>=1.1.0 in /usr/local/lib/python3.7/dist-packages (from scikit-learn) (1.4.1)\n",
            "Requirement already satisfied: joblib>=0.11 in /usr/local/lib/python3.7/dist-packages (from scikit-learn) (1.1.0)\n",
            "Requirement already satisfied: numpy>=1.14.6 in /usr/local/lib/python3.7/dist-packages (from scikit-learn) (1.19.5)\n",
            "Installing collected packages: scikit-learn\n",
            "Successfully installed scikit-learn-1.0.1\n"
          ]
        }
      ]
    },
    {
      "cell_type": "code",
      "metadata": {
        "id": "8T5nCWBPm2Vs"
      },
      "source": [
        ""
      ],
      "execution_count": null,
      "outputs": []
    }
  ]
}