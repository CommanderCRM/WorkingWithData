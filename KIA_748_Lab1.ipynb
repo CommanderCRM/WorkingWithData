{
  "cells": [
    {
      "cell_type": "code",
      "execution_count": null,
      "metadata": {
        "id": "15OYqwaWhmpy"
      },
      "outputs": [],
      "source": [
        "import pandas as pd\n",
        "\n",
        "# загрузили набор с разделителем ;\n",
        "df_cars = pd.read_csv(\n",
        "    'https://perso.telecom-paristech.fr/eagan/class/igr204/data/cars.csv', sep=';')\n",
        "df_cars = df_cars.iloc[1:]  # удалили первую строку\n",
        "\n",
        "# из Car вычленяем значения с буквами имени и фамилии\n",
        "models_by_my_name = df_cars['Car'].str.extract(r'(.*[i,I].*[i,I].*)')\n",
        "# проверяем есть ли значения NaN\n",
        "models_by_my_name = models_by_my_name[models_by_my_name[0].notna()]\n",
        "\n",
        "df_cars['Horsepower'] = df_cars['Horsepower'].astype(\n",
        "    float)  # приводим Horsepower к типу float\n",
        "cars_birthday_power = df_cars.loc[(df_cars['Horsepower'] >= 90.0) & (\n",
        "    df_cars['Horsepower'] <= 180.0)]  # только те строки, где выполняется условие по мощности\n",
        "# заменяем отфильтрованные значения мощности на медиану всех мощностей\n",
        "cars_birthday_power['Horsepower'] = df_cars['Horsepower'].median()\n",
        "\n",
        "df_cars['Weight'] = df_cars['Weight'].astype(\n",
        "    float)  # приводим Weight к типу float\n",
        "# группируем средние значения веса по странам\n",
        "country_weight_mean = df_cars.groupby('Origin')['Weight'].mean()\n",
        "\n",
        "# удаляем ряды с нулевым значением мощности\n",
        "cars_without_0power = df_cars.drop(df_cars[df_cars.Horsepower == 0.0].index)\n",
        "\n",
        "sorted_by_weight = df_cars.sort_values(\n",
        "    by=['Weight'], ascending=False)  # сортировка по убыванию веса\n",
        "\n",
        "deleted_model = df_cars.drop(columns=['Model'])  # удаление столбца Model\n",
        "\n",
        "zero_power_0weight = cars_without_0power.drop(\n",
        "    cars_without_0power[cars_without_0power.Weight == 0.0].index)  # ненулевые мощность и вес\n",
        "zero_power_0weight['Power to weight'] = zero_power_0weight['Horsepower'] / \\\n",
        "    zero_power_0weight['Weight']  # добавление столбца удельной мощности\n"
      ]
    },
    {
      "cell_type": "code",
      "execution_count": null,
      "metadata": {
        "id": "LQLTCydTgmpY"
      },
      "outputs": [],
      "source": []
    }
  ],
  "metadata": {
    "colab": {
      "collapsed_sections": [],
      "name": "KIA_748_Lab1.ipynb",
      "provenance": []
    },
    "kernelspec": {
      "display_name": "Python 3",
      "name": "python3"
    },
    "language_info": {
      "name": "python"
    }
  },
  "nbformat": 4,
  "nbformat_minor": 0
}
