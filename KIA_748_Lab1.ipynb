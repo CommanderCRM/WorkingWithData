{
  "nbformat": 4,
  "nbformat_minor": 0,
  "metadata": {
    "colab": {
      "name": "KIA_748_Lab1.ipynb",
      "provenance": [],
      "collapsed_sections": []
    },
    "kernelspec": {
      "name": "python3",
      "display_name": "Python 3"
    },
    "language_info": {
      "name": "python"
    }
  },
  "cells": [
    {
      "cell_type": "code",
      "metadata": {
        "id": "15OYqwaWhmpy"
      },
      "source": [
        "import pandas as pd\n",
        "\n",
        "df_cars = pd.read_csv('https://perso.telecom-paristech.fr/eagan/class/igr204/data/cars.csv',sep=';') # загрузили набор с разделителем ;\n",
        "df_cars = df_cars.iloc[1:] # удалили первую строку\n",
        "\n",
        "models_by_my_name = df_cars['Car'].str.extract(r'(.*[i,I].*[i,I].*)') # из Car вычленяем значения с буквами имени и фамилии\n",
        "models_by_my_name = models_by_my_name[models_by_my_name[0].notna()] # проверяем есть ли значения NaN\n",
        "\n",
        "df_cars['Horsepower'] = df_cars['Horsepower'].astype(float) # приводим Horsepower к типу float\n",
        "cars_birthday_power = df_cars.loc[(df_cars['Horsepower'] >= 90.0) & (df_cars['Horsepower'] <= 180.0)] # только те строки, где выполняется условие по мощности\n",
        "cars_birthday_power['Horsepower'] = df_cars['Horsepower'].median() # заменяем отфильтрованные значения мощности на медиану всех мощностей\n",
        "\n",
        "df_cars['Weight'] = df_cars['Weight'].astype(float) # приводим Weight к типу float\n",
        "country_weight_mean = df_cars.groupby('Origin')['Weight'].mean() # группируем средние значения веса по странам\n",
        "\n",
        "cars_without_0power = df_cars.drop(df_cars[df_cars.Horsepower == 0.0].index) # удаляем ряды с нулевым значением мощности\n",
        "\n",
        "sorted_by_weight = df_cars.sort_values(by = ['Weight'], ascending = False) # сортировка по убыванию веса\n",
        "\n",
        "deleted_model = df_cars.drop(columns = ['Model']) # удаление столбца Model\n",
        "\n",
        "zero_power_0weight = cars_without_0power.drop(cars_without_0power[cars_without_0power.Weight == 0.0].index) # ненулевые мощность и вес\n",
        "zero_power_0weight['Power to weight'] = zero_power_0weight['Horsepower'] / zero_power_0weight['Weight'] # добавление столбца удельной мощности"
      ],
      "execution_count": null,
      "outputs": []
    },
    {
      "cell_type": "code",
      "metadata": {
        "id": "LQLTCydTgmpY"
      },
      "source": [
        ""
      ],
      "execution_count": null,
      "outputs": []
    }
  ]
}